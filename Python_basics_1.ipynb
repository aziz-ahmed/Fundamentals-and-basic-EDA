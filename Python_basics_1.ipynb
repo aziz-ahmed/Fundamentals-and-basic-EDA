{
  "cells": [
    {
      "cell_type": "markdown",
      "source": [
        "Q1: Given two matrices please print the product of those two matrices"
      ],
      "metadata": {
        "id": "D5PVs1oRXlzg"
      }
    },
    {
      "cell_type": "code",
      "execution_count": null,
      "metadata": {
        "id": "fSqQKhbVWtvX",
        "outputId": "d40c5728-096d-4872-9e83-7281fab74792"
      },
      "outputs": [
        {
          "data": {
            "text/plain": [
              "[[1, 2, 12], [4, 5, 42], [7, 8, 72]]"
            ]
          },
          "execution_count": 1,
          "metadata": {},
          "output_type": "execute_result"
        }
      ],
      "source": [
        "#Matrix multiplication \n",
        "#https://www.geeksforgeeks.org/python-program-multiply-two-matrices/\n",
        "def matrix_mul(A, B):\n",
        "    \n",
        "    row1 = len(A)\n",
        "    col1 = len(A[0])\n",
        "    row2 = len(B)\n",
        "    col2 = len(B[0])\n",
        "    if col1==row2:\n",
        "        res = [[0,0,0],\n",
        "               [0,0,0],\n",
        "               [0,0,0]]\n",
        "        for x in range(len(A)): #row\n",
        "            for y in range(len(B[0])):\n",
        "                \n",
        "                for z in range(len(A[0])):       #row\n",
        "                    res[x][y] += A[x][z] * B[z][y]\n",
        "                    \n",
        "    else:\n",
        "        print(\"The matrix muliplication is not possible\")\n",
        "    \n",
        "    return res\n",
        "A = [[1,2,3],\n",
        "     [4,5,6],\n",
        "     [7,8,9]]\n",
        "B= [[1,0,9],\n",
        "    [0,1,0],\n",
        "    [0,0,1]]\n",
        "\n",
        "matrix_mul(A,B)"
      ]
    },
    {
      "cell_type": "markdown",
      "source": [
        "Q2: Proportional Sampling - Select a number randomly with probability proportional to its magnitude from the given array of n elements"
      ],
      "metadata": {
        "id": "JLTxgyhKX9G_"
      }
    },
    {
      "cell_type": "code",
      "execution_count": null,
      "metadata": {
        "id": "bq4R0z4IWtvw",
        "outputId": "b7dbb2c8-4ce1-4e6a-f72a-7378d6985c3a"
      },
      "outputs": [
        {
          "data": {
            "text/plain": [
              "[100, 100, 100, 100, 27, 100, 100, 6, 6, 100]"
            ]
          },
          "execution_count": 2,
          "metadata": {},
          "output_type": "execute_result"
        }
      ],
      "source": [
        "##https://www.geeksforgeeks.org/how-to-get-weighted-random-choice-in-python/\n",
        "import random\n",
        "def pick_a_number_from_list(A):\n",
        "    selected_list = random.choices(A, cum_weights = (55,60,65,70,75,80,85,90,95,100), k =10)     #https://www.geeksforgeeks.org/how-to-get-weighted-random-choice-in-python/\n",
        "     \n",
        "    return selected_list\n",
        "random_list = [0, 5, 27, 6, 13, 28, 100, 45, 10, 79]\n",
        "final_list = sorted(random_list, reverse=True)\n",
        "pick_a_number_from_list(final_list)"
      ]
    },
    {
      "cell_type": "markdown",
      "source": [
        "Q3: Replace the digits in the string with #"
      ],
      "metadata": {
        "id": "AEWKLluCYTTH"
      }
    },
    {
      "cell_type": "code",
      "execution_count": null,
      "metadata": {
        "id": "eiwRGUwmWtv1",
        "outputId": "bea14d65-32e1-49d2-a163-93e1d9b999f5"
      },
      "outputs": [
        {
          "data": {
            "text/plain": [
              "'hsds##'"
            ]
          },
          "execution_count": 3,
          "metadata": {},
          "output_type": "execute_result"
        }
      ],
      "source": [
        "#replace digits with #\n",
        "import re\n",
        "\n",
        "def replace_strings(String):\n",
        "    x = '#'\n",
        "    ans = re.sub(r'\\d',x,str(String))   #'str' here is being used just in case if A is passed as list \n",
        "    return ans\n",
        "\n",
        "A = 'hsds67'\n",
        "\n",
        "replace_strings(A)"
      ]
    },
    {
      "cell_type": "markdown",
      "source": [
        "Q4: Students marks dashboard"
      ],
      "metadata": {
        "id": "OTyT9W0YYbrf"
      }
    },
    {
      "cell_type": "code",
      "execution_count": null,
      "metadata": {
        "id": "uWDeF9yVWtv7",
        "outputId": "3ba57a68-9a6d-4300-9963-7c76e6be9199"
      },
      "outputs": [
        {
          "name": "stdout",
          "output_type": "stream",
          "text": [
            "['student8', 'student10', 'student2', 'student5', 'student7'] ['student3', 'student4', 'student9', 'student6', 'student1'] ['student9', 'student6', 'student1', 'student7', 'student5']\n"
          ]
        },
        {
          "data": {
            "text/plain": [
              "({'student3': 12,\n",
              "  'student4': 14,\n",
              "  'student9': 35,\n",
              "  'student6': 43,\n",
              "  'student1': 45,\n",
              "  'student7': 47,\n",
              "  'student5': 48,\n",
              "  'student2': 78,\n",
              "  'student10': 80,\n",
              "  'student8': 98},\n",
              " ['student8', 'student10', 'student2', 'student5', 'student7'],\n",
              " ['student3', 'student4', 'student9', 'student6', 'student1'],\n",
              " ['student9', 'student6', 'student1', 'student7', 'student5'])"
            ]
          },
          "execution_count": 4,
          "metadata": {},
          "output_type": "execute_result"
        }
      ],
      "source": [
        "#4 students marks dashboard\n",
        "def display_dash_board(students,marks):\n",
        "    res_table = dict(zip(students,marks))   \n",
        "    sorted_res = {k:v for k,v in sorted(res_table.items(),key=lambda i:i[1])}\n",
        "    top_5_students =sorted(res_table, key=res_table.get, reverse=True)[:5]\n",
        "    least_5_students = sorted(res_table,key=res_table.get, reverse=False)[:5]\n",
        "    nos = len(sorted_res)\n",
        "    n1 = nos//4 # equals to 2\n",
        "    n2 = nos//1.334   #equals to 7\n",
        "    x = list(sorted_res.keys())\n",
        "    students_within_25_and_75 = x[2:7]\n",
        "    print(top_5_students,least_5_students,students_within_25_and_75)\n",
        "    return sorted_res,top_5_students,least_5_students,students_within_25_and_75\n",
        "\n",
        "students=['student1','student2','student3','student4','student5','student6','student7','student8','student9','student10']  \n",
        "marks = [45, 78, 12, 14, 48, 43, 47, 98, 35, 80]\n",
        "display_dash_board(students,marks)"
      ]
    },
    {
      "cell_type": "markdown",
      "source": [
        "Q5: Find the closest points"
      ],
      "metadata": {
        "id": "qdra1ZZjcnBi"
      }
    },
    {
      "cell_type": "code",
      "execution_count": null,
      "metadata": {
        "id": "OAquzF9fWtwK",
        "outputId": "4de1bf35-10e0-45ff-ec55-43f4f4063575"
      },
      "outputs": [
        {
          "name": "stdout",
          "output_type": "stream",
          "text": [
            "The cosine distance of point (1,2) from (3,-4) is \n",
            "2.0344439357957027\n",
            "The cosine distance of point (3,4) from (3,-4) is \n",
            "1.8545904360032246\n",
            "The cosine distance of point (-1,1) from (3,-4) is \n",
            "2.9996955989856287\n",
            "The cosine distance of point (6,-7) from (3,-4) is \n",
            "0.06512516333438509\n",
            "The cosine distance of point (0,6) from (3,-4) is \n",
            "2.498091544796509\n",
            "The cosine distance of point (-5,-8) from (3,-4) is \n",
            "1.2021004241368467\n",
            "The cosine distance of point (-1,-1) from (3,-4) is \n",
            "1.4288992721907328\n",
            "The cosine distance of point (6,0) from (3,-4) is \n",
            "0.9272952180016123\n",
            "The cosine distance of point (1,-1) from (3,-4) is \n",
            "0.14189705460416438\n",
            "The cosine distances of 5 nearest points\n",
            "[2.0344439357957027, 1.8545904360032246, 2.9996955989856287, 0.06512516333438509, 2.498091544796509]\n"
          ]
        }
      ],
      "source": [
        "#5 cosine distance\n",
        "import math\n",
        "def closest_points_to_P(S,p,q):\n",
        "    dist = []\n",
        "    for x,y in S:\n",
        "        cos_dist = math.acos((x*p + y*q)/((math.sqrt(x**2 + y**2))*(math.sqrt(p**2 + q**2))))\n",
        "        print(\"The cosine distance of point ({},{}) from (3,-4) is \".format(x,y))\n",
        "        print(cos_dist)\n",
        "        dist.append(cos_dist)\n",
        "    print(\"The cosine distances of 5 nearest points\")\n",
        "    print(dist[:5])\n",
        "S= [(1,2),(3,4),(-1,1),(6,-7),(0, 6),(-5,-8),(-1,-1),(6,0),(1,-1)]\n",
        "p,q= 3,-4    \n",
        "closest_points_to_P(S,p,q)"
      ]
    },
    {
      "cell_type": "markdown",
      "source": [
        "Q6: Find Which line separates oranges and apples"
      ],
      "metadata": {
        "id": "-iu-OKuQZWQN"
      }
    },
    {
      "cell_type": "code",
      "source": [
        "#this code was directly referenced from a source on the internet. But I am unable to find the link as it has been long\n",
        "import math\n",
        "\n",
        "def getCor(s):\n",
        " \n",
        "    first = s.split('x')\n",
        "    a = float(first[0])\n",
        "    \n",
        "    second = first[1].split('y')\n",
        "    b = float(second[0])\n",
        "    c = float(second[1])\n",
        "    \n",
        "    return (a,b,c)\n",
        "\n",
        "\n",
        "def getSide(t,p):\n",
        "    \n",
        "    cal = (t[0] * p[0]) + (t[1] * p[1]) + (t[2])\n",
        "\n",
        "    if cal > 0:\n",
        "        return 1\n",
        "    elif cal < 0:\n",
        "        return -1\n",
        "    elif cal == 0:\n",
        "        return 0\n",
        "    return -2\n",
        "\n",
        "\n",
        "def getAns(red,blue,line):\n",
        "    \n",
        "    sign_red = getSide(getCor(line),red[0])\n",
        "    sign_blue = getSide(getCor(line),blue[0])\n",
        "        \n",
        "    for j in range(len(red)):\n",
        "        if sign_red != getSide(getCor(line),red[j]):\n",
        "            return 'no'\n",
        "\n",
        "    for j in range(len(blue)):\n",
        "\n",
        "        if sign_blue != getSide(getCor(line),blue[j]):\n",
        "            return 'no'\n",
        "    return 'Yes'\n",
        "\n",
        "\n",
        "Red= [(1,1),(2,1),(4,2),(2,4), (-1,4)]   \n",
        "Blue= [(-2,-1),(-1,-2),(-3,-2),(-3,-1),(1,-3)]\n",
        "Lines=[\"1x+1y+0\",\"1x-1y+0\",\"1x+0y-3\",\"0x+1y-0.5\"]\n",
        "\n",
        "for i in Lines:\n",
        "    ans = getAns(Red, Blue, i)\n",
        "    print(ans)"
      ],
      "metadata": {
        "colab": {
          "base_uri": "https://localhost:8080/"
        },
        "id": "qR9szXaHXAOr",
        "outputId": "032abf7a-de7e-4964-b6cb-5e5963f68a24"
      },
      "execution_count": null,
      "outputs": [
        {
          "output_type": "stream",
          "name": "stdout",
          "text": [
            "Yes\n",
            "no\n",
            "no\n",
            "Yes\n"
          ]
        }
      ]
    },
    {
      "cell_type": "markdown",
      "source": [
        "Q7: Filling the missing values in the specified formate"
      ],
      "metadata": {
        "id": "w3Z3TeVpbH9p"
      }
    },
    {
      "cell_type": "code",
      "execution_count": null,
      "metadata": {
        "id": "1FZ4VmlbWtwj",
        "outputId": "840411cf-37e1-4fc8-b6b3-2ca259b960c3"
      },
      "outputs": [
        {
          "name": "stdout",
          "output_type": "stream",
          "text": [
            "[20.0, 20.0, 20.0, 20.0, 6.666666666666667, 6.666666666666667, 6.666666666666667]\n"
          ]
        }
      ],
      "source": [
        "#https://stackoverflow.com/questions/57179618/filling-the-missing-values-in-the-specified-format-python\n",
        "input_string=\"40,_,_,_,60,_,_\"\n",
        "output=input_string.split(',')\n",
        "\n",
        "cur_pos=0\n",
        "next_value=0\n",
        "last_pos=0\n",
        "last_value=0\n",
        "\n",
        "while cur_pos<len(output):\n",
        "    if output[cur_pos]!='_' or (cur_pos +1 == len(output)):\n",
        "        if output[cur_pos] != '_':\n",
        "            next_value=int(output[cur_pos])\n",
        "        else:\n",
        "            next_value=0\n",
        "        new_value=(next_value+last_value)/(cur_pos - last_pos +1)\n",
        "        for i in range(last_pos,cur_pos +1):\n",
        "            output[i]=new_value\n",
        "        last_value=new_value\n",
        "        last_pos= cur_pos\n",
        "    cur_pos +=1\n",
        "print(output)    "
      ]
    },
    {
      "cell_type": "markdown",
      "source": [
        "Q8. Compute Conditional probablities"
      ],
      "metadata": {
        "id": "sCP1LXNhbcCw"
      }
    },
    {
      "cell_type": "code",
      "execution_count": null,
      "metadata": {
        "id": "p18kqfnBWtwX",
        "outputId": "fc82e5b1-cb06-47f4-90fb-83d9bc951d40"
      },
      "outputs": [
        {
          "name": "stdout",
          "output_type": "stream",
          "text": [
            "[0.25, 0.25, 0.0, 0.25, 0.25]\n",
            "[0.3333333333333333, 0.3333333333333333, 0.3333333333333333, 0.0, 0.0]\n",
            "[0.0, 0.3333333333333333, 0.3333333333333333, 0.3333333333333333, 0.0]\n"
          ]
        }
      ],
      "source": [
        "def compute_conditional_probabilities(A):\n",
        "    count=0\n",
        "    countA=0\n",
        "    countB=0\n",
        "    count1=0\n",
        "    count2=0\n",
        "    count3=0\n",
        "    count4=0\n",
        "    count5=0\n",
        "    count1a=0\n",
        "    count2a=0\n",
        "    count3a=0\n",
        "    count4a=0\n",
        "    count5a=0\n",
        "    count1b=0\n",
        "    count2b=0\n",
        "    count3b=0\n",
        "    count4b=0\n",
        "    count5b=0\n",
        "\n",
        "    for x,y in A:\n",
        "        if y=='S1':\n",
        "            count=count+1\n",
        "            if x=='F1':\n",
        "                count1=count1+1\n",
        "            if x=='F2':\n",
        "                count2=count2+1\n",
        "            if x=='F3':\n",
        "                count3=count3+1\n",
        "            if x=='F4':\n",
        "                count4=count4+1\n",
        "            if x=='F5':\n",
        "                count5=count5+1\n",
        "        if y=='S2':\n",
        "            countA=countA+1\n",
        "            if x=='F1':\n",
        "                count1a=count1a+1\n",
        "            if x=='F2':\n",
        "                count2a=count2a+1\n",
        "            if x=='F3':\n",
        "                count3a=count3a+1\n",
        "            if x=='F4':\n",
        "                count4a=count4a+1\n",
        "            if x=='F5':\n",
        "                count5a=count5a+1\n",
        "        if y=='S3':\n",
        "            countB=countB+1\n",
        "            if x=='F1':\n",
        "                count1b=count1b+1\n",
        "            if x=='F2':\n",
        "                count2b=count2b+1\n",
        "            if x=='F3':\n",
        "                count3b=count3b+1\n",
        "            if x=='F4':\n",
        "                count4b=count4b+1\n",
        "            if x=='F5':\n",
        "                count5b=count5b+1\n",
        "        \n",
        "    a=count1/count\n",
        "    b=count2/count\n",
        "    c=count3/count\n",
        "    d=count4/count\n",
        "    e=count5/count\n",
        "    a1=count1a/countA\n",
        "    b1=count2a/countA\n",
        "    c1=count3a/countA\n",
        "    d1=count4a/countA\n",
        "    e1=count5a/countA\n",
        "    a2=count1b/countB\n",
        "    b2=count2b/countB\n",
        "    c2=count3b/countB\n",
        "    d2=count4b/countB\n",
        "    e2=count5b/countB\n",
        "\n",
        "    print([a,b,c,d,e])\n",
        "    print([a1,b1,c1,d1,e1])\n",
        "    print([a2,b2,c2,d2,e2])\n",
        "    return\n",
        "\n",
        "\n",
        "A=[['F1','S1'],['F2','S2'],['F3','S3'],['F1','S2'],['F2','S3'],['F3','S2'],['F2','S1'],['F4','S1'],['F4','S3'],['F5','S1']]\n",
        "compute_conditional_probabilities(A)"
      ]
    },
    {
      "cell_type": "markdown",
      "source": [
        "Q9: Given two sentances S1, S2"
      ],
      "metadata": {
        "id": "P_uA2p0obnil"
      }
    },
    {
      "cell_type": "code",
      "execution_count": null,
      "metadata": {
        "id": "8SvikPyRWtwB",
        "outputId": "6ef66cd8-6993-49fa-e6dd-829f024642ae"
      },
      "outputs": [
        {
          "name": "stdout",
          "output_type": "stream",
          "text": [
            "7\n",
            "{'F', '5', 'first'}\n",
            "{'3', 'S', 'second'}\n"
          ]
        }
      ],
      "source": [
        "#( 9 problem on sentences)\n",
        "##https://www.w3resource.com/python-exercises/sets/python-sets-exercise-21.php\n",
        "def string_features(S1,S2):\n",
        "    S1WordSep,S2WordSep = set(S1.split()),set(S2.split())\n",
        "\n",
        "    a = set(S1WordSep).intersection( set(S2WordSep) )    #common\n",
        "    print(len(a))\n",
        "    S1WordSep -= S2WordSep                                              #https://www.w3resource.com/python-exercises/sets/python-sets-exercise-21.php\n",
        "    print(S1WordSep)\n",
        "    S1WordSep,S2WordSep = set(S1.split()),set(S2.split())\n",
        "    S2WordSep -= S1WordSep\n",
        "    print(S2WordSep)\n",
        "S1= \"the first column F will contain only 5 uniques values\"\n",
        "S2= \"the second column S will contain only 3 uniques values\"\n",
        "string_features(S1,S2)"
      ]
    },
    {
      "cell_type": "markdown",
      "source": [
        "Q10: Given two sentances S1, S2 Log loss"
      ],
      "metadata": {
        "id": "cggvW_s6b6QP"
      }
    },
    {
      "cell_type": "code",
      "execution_count": null,
      "metadata": {
        "id": "vMfGE43BWtwf",
        "outputId": "5737a4fb-0581-4fcb-bd80-b220d4dcdb2d"
      },
      "outputs": [
        {
          "name": "stdout",
          "output_type": "stream",
          "text": [
            "0.42430993457031635\n"
          ]
        }
      ],
      "source": [
        "def compute_log_loss(A):\n",
        "    import math\n",
        "    N = len(A)\n",
        "    log_loss=[]\n",
        "    for y,yscore in A:\n",
        "        loss1=-1/N*(y*math.log(yscore,10)+(1-y)*math.log(1-yscore,10))\n",
        "        log_loss.append(loss1)\n",
        "    print(sum(log_loss))\n",
        "    return\n",
        "A=[[1, 0.4], [0, 0.5], [0, 0.9], [0, 0.3], [0, 0.6], [1, 0.1], [1, 0.9], [1, 0.8]]\n",
        "compute_log_loss(A)"
      ]
    },
    {
      "cell_type": "code",
      "execution_count": null,
      "metadata": {
        "id": "WuD0yAunWtwz"
      },
      "outputs": [],
      "source": [
        ""
      ]
    }
  ],
  "metadata": {
    "kernelspec": {
      "display_name": "Python 3 (ipykernel)",
      "language": "python",
      "name": "python3"
    },
    "language_info": {
      "codemirror_mode": {
        "name": "ipython",
        "version": 3
      },
      "file_extension": ".py",
      "mimetype": "text/x-python",
      "name": "python",
      "nbconvert_exporter": "python",
      "pygments_lexer": "ipython3",
      "version": "3.9.7"
    },
    "colab": {
      "name": "Assignment 1 AAIC python basics.ipynb",
      "provenance": []
    }
  },
  "nbformat": 4,
  "nbformat_minor": 0
}